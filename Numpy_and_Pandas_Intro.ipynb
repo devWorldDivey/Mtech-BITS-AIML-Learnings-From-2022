{
 "cells": [
  {
   "cell_type": "code",
   "execution_count": 1,
   "id": "cd965915",
   "metadata": {},
   "outputs": [
    {
     "name": "stdout",
     "output_type": "stream",
     "text": [
      "hello ! I am on GITHUB\n"
     ]
    }
   ],
   "source": [
    "print(\"hello ! I am on GITHUB\")"
   ]
  },
  {
   "cell_type": "code",
   "execution_count": null,
   "id": "a4e31185",
   "metadata": {},
   "outputs": [],
   "source": []
  }
 ],
 "metadata": {
  "kernelspec": {
   "display_name": "Python 3 (ipykernel)",
   "language": "python",
   "name": "python3"
  },
  "language_info": {
   "codemirror_mode": {
    "name": "ipython",
    "version": 3
   },
   "file_extension": ".py",
   "mimetype": "text/x-python",
   "name": "python",
   "nbconvert_exporter": "python",
   "pygments_lexer": "ipython3",
   "version": "3.9.12"
  }
 },
 "nbformat": 4,
 "nbformat_minor": 5
}
