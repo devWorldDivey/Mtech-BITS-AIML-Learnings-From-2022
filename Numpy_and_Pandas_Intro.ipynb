{
 "cells": [
  {
   "cell_type": "code",
   "execution_count": 1,
   "id": "971b6814",
   "metadata": {},
   "outputs": [
    {
     "name": "stdout",
     "output_type": "stream",
     "text": [
      "hello ! I am on GITHUB\n"
     ]
    }
   ],
   "source": [
    "print(\"hello ! I am on GITHUB\")"
   ]
  },
  {
   "cell_type": "code",
   "execution_count": 4,
   "id": "34194d91",
   "metadata": {},
   "outputs": [
    {
     "data": {
      "text/plain": [
       "{'name': 0    A\n",
       " 1    B\n",
       " 2    c\n",
       " dtype: object,\n",
       " 'age': 0    21\n",
       " 1    22\n",
       " 2    23\n",
       " dtype: int64,\n",
       " 'salary': 0    11.5\n",
       " 1    23.4\n",
       " 2    56.0\n",
       " dtype: float64,\n",
       " 'working': 0     True\n",
       " 1    False\n",
       " 2     True\n",
       " dtype: bool}"
      ]
     },
     "execution_count": 4,
     "metadata": {},
     "output_type": "execute_result"
    }
   ],
   "source": [
    "dict = {\n",
    "           \"name\" : pd.Series([\"A\", \"B\", \"c\"]), \n",
    "           \"age\": pd.Series([21, 22, 23]), \n",
    "           \"salary\": pd.Series([11.5, 23.4, 56]),\n",
    "           \"working\" : pd.Series([True, False, True])\n",
    "       }\n",
    "dict"
   ]
  },
  {
   "cell_type": "code",
   "execution_count": 3,
   "id": "ff144700",
   "metadata": {},
   "outputs": [],
   "source": [
    "import pandas as pd"
   ]
  },
  {
   "cell_type": "code",
   "execution_count": 5,
   "id": "067fe8b9",
   "metadata": {},
   "outputs": [
    {
     "data": {
      "text/html": [
       "<div>\n",
       "<style scoped>\n",
       "    .dataframe tbody tr th:only-of-type {\n",
       "        vertical-align: middle;\n",
       "    }\n",
       "\n",
       "    .dataframe tbody tr th {\n",
       "        vertical-align: top;\n",
       "    }\n",
       "\n",
       "    .dataframe thead th {\n",
       "        text-align: right;\n",
       "    }\n",
       "</style>\n",
       "<table border=\"1\" class=\"dataframe\">\n",
       "  <thead>\n",
       "    <tr style=\"text-align: right;\">\n",
       "      <th></th>\n",
       "      <th>name</th>\n",
       "      <th>age</th>\n",
       "      <th>salary</th>\n",
       "      <th>working</th>\n",
       "    </tr>\n",
       "  </thead>\n",
       "  <tbody>\n",
       "    <tr>\n",
       "      <th>0</th>\n",
       "      <td>A</td>\n",
       "      <td>21</td>\n",
       "      <td>11.5</td>\n",
       "      <td>True</td>\n",
       "    </tr>\n",
       "    <tr>\n",
       "      <th>1</th>\n",
       "      <td>B</td>\n",
       "      <td>22</td>\n",
       "      <td>23.4</td>\n",
       "      <td>False</td>\n",
       "    </tr>\n",
       "    <tr>\n",
       "      <th>2</th>\n",
       "      <td>c</td>\n",
       "      <td>23</td>\n",
       "      <td>56.0</td>\n",
       "      <td>True</td>\n",
       "    </tr>\n",
       "  </tbody>\n",
       "</table>\n",
       "</div>"
      ],
      "text/plain": [
       "  name  age  salary  working\n",
       "0    A   21    11.5     True\n",
       "1    B   22    23.4    False\n",
       "2    c   23    56.0     True"
      ]
     },
     "execution_count": 5,
     "metadata": {},
     "output_type": "execute_result"
    }
   ],
   "source": [
    "data_frame = pd.DataFrame(dict)\n",
    "data_frame"
   ]
  },
  {
   "cell_type": "code",
   "execution_count": 6,
   "id": "69b98580",
   "metadata": {},
   "outputs": [
    {
     "name": "stdout",
     "output_type": "stream",
     "text": [
      "Type of data frame object :  <class 'pandas.core.frame.DataFrame'>\n",
      "Data types of data frame columns :  name        object\n",
      "age          int64\n",
      "salary     float64\n",
      "working       bool\n",
      "dtype: object\n",
      "Columns of data frame :  Index(['name', 'age', 'salary', 'working'], dtype='object')\n",
      "Row labels of data frame :  RangeIndex(start=0, stop=3, step=1)\n",
      "Number of entries in data frame :  3\n",
      "Number of cells is data frame :  12\n",
      "\n"
     ]
    }
   ],
   "source": [
    "print(\"Type of data frame object : \", type(data_frame))\n",
    "print(\"Data types of data frame columns : \", data_frame.dtypes)\n",
    "print(\"Columns of data frame : \", data_frame.columns)\n",
    "print(\"Row labels of data frame : \", data_frame.index)\n",
    "print(\"Number of entries in data frame : \", len(data_frame))\n",
    "print(\"Number of cells is data frame : \" , data_frame.size)\n",
    "print()"
   ]
  },
  {
   "cell_type": "code",
   "execution_count": 7,
   "id": "4ec553f1",
   "metadata": {},
   "outputs": [
    {
     "data": {
      "text/plain": [
       "{'one': a    A\n",
       " b    B\n",
       " c    C\n",
       " d    D\n",
       " dtype: object,\n",
       " 'two': a    1\n",
       " b    2\n",
       " c    3\n",
       " dtype: int64,\n",
       " 'three ': a    11\n",
       " b    22\n",
       " dtype: int64}"
      ]
     },
     "execution_count": 7,
     "metadata": {},
     "output_type": "execute_result"
    }
   ],
   "source": [
    "dict = { \n",
    "            \"one\" : pd.Series(['A', 'B', 'C', 'D'], index=[\"a\", \"b\", \"c\", \"d\"]), \n",
    "            \"two\" : pd.Series([1, 2, 3], index=[\"a\", \"b\", \"c\"]),\n",
    "            \"three \" : pd.Series([11, 22], index=[\"a\", \"b\"])\n",
    "       }\n",
    "dict"
   ]
  },
  {
   "cell_type": "code",
   "execution_count": 8,
   "id": "b988f332",
   "metadata": {},
   "outputs": [
    {
     "data": {
      "text/html": [
       "<div>\n",
       "<style scoped>\n",
       "    .dataframe tbody tr th:only-of-type {\n",
       "        vertical-align: middle;\n",
       "    }\n",
       "\n",
       "    .dataframe tbody tr th {\n",
       "        vertical-align: top;\n",
       "    }\n",
       "\n",
       "    .dataframe thead th {\n",
       "        text-align: right;\n",
       "    }\n",
       "</style>\n",
       "<table border=\"1\" class=\"dataframe\">\n",
       "  <thead>\n",
       "    <tr style=\"text-align: right;\">\n",
       "      <th></th>\n",
       "      <th>one</th>\n",
       "      <th>two</th>\n",
       "      <th>three</th>\n",
       "    </tr>\n",
       "  </thead>\n",
       "  <tbody>\n",
       "    <tr>\n",
       "      <th>a</th>\n",
       "      <td>A</td>\n",
       "      <td>1.0</td>\n",
       "      <td>11.0</td>\n",
       "    </tr>\n",
       "    <tr>\n",
       "      <th>b</th>\n",
       "      <td>B</td>\n",
       "      <td>2.0</td>\n",
       "      <td>22.0</td>\n",
       "    </tr>\n",
       "    <tr>\n",
       "      <th>c</th>\n",
       "      <td>C</td>\n",
       "      <td>3.0</td>\n",
       "      <td>NaN</td>\n",
       "    </tr>\n",
       "    <tr>\n",
       "      <th>d</th>\n",
       "      <td>D</td>\n",
       "      <td>NaN</td>\n",
       "      <td>NaN</td>\n",
       "    </tr>\n",
       "  </tbody>\n",
       "</table>\n",
       "</div>"
      ],
      "text/plain": [
       "  one  two  three \n",
       "a   A  1.0    11.0\n",
       "b   B  2.0    22.0\n",
       "c   C  3.0     NaN\n",
       "d   D  NaN     NaN"
      ]
     },
     "execution_count": 8,
     "metadata": {},
     "output_type": "execute_result"
    }
   ],
   "source": [
    "data_frame = pd.DataFrame(dict)\n",
    "data_frame"
   ]
  },
  {
   "cell_type": "code",
   "execution_count": 11,
   "id": "4efc077a",
   "metadata": {},
   "outputs": [
    {
     "data": {
      "text/plain": [
       "array([4, 4, 1, 4, 1])"
      ]
     },
     "execution_count": 11,
     "metadata": {},
     "output_type": "execute_result"
    }
   ],
   "source": [
    "array = np.random.randint(5, size = 5)\n",
    "array"
   ]
  },
  {
   "cell_type": "code",
   "execution_count": 10,
   "id": "825f5e01",
   "metadata": {},
   "outputs": [],
   "source": [
    "import numpy as np"
   ]
  },
  {
   "cell_type": "code",
   "execution_count": 12,
   "id": "f57e84d5",
   "metadata": {},
   "outputs": [
    {
     "data": {
      "text/plain": [
       "[0, 1, 4, 9, 16]"
      ]
     },
     "execution_count": 12,
     "metadata": {},
     "output_type": "execute_result"
    }
   ],
   "source": [
    "list1 = [ i*i for i in range(5)]\n",
    "list1"
   ]
  },
  {
   "cell_type": "code",
   "execution_count": 13,
   "id": "5acfbb25",
   "metadata": {},
   "outputs": [
    {
     "data": {
      "text/plain": [
       "{'column1': array([4, 4, 1, 4, 1]), 'column2': [0, 1, 4, 9, 16]}"
      ]
     },
     "execution_count": 13,
     "metadata": {},
     "output_type": "execute_result"
    }
   ],
   "source": [
    "dict = {\n",
    "            \"column1\" : array,\n",
    "            \"column2\" : list1\n",
    "       }\n",
    "dict"
   ]
  },
  {
   "cell_type": "code",
   "execution_count": 14,
   "id": "7ec62d17",
   "metadata": {},
   "outputs": [
    {
     "data": {
      "text/html": [
       "<div>\n",
       "<style scoped>\n",
       "    .dataframe tbody tr th:only-of-type {\n",
       "        vertical-align: middle;\n",
       "    }\n",
       "\n",
       "    .dataframe tbody tr th {\n",
       "        vertical-align: top;\n",
       "    }\n",
       "\n",
       "    .dataframe thead th {\n",
       "        text-align: right;\n",
       "    }\n",
       "</style>\n",
       "<table border=\"1\" class=\"dataframe\">\n",
       "  <thead>\n",
       "    <tr style=\"text-align: right;\">\n",
       "      <th></th>\n",
       "      <th>column1</th>\n",
       "      <th>column2</th>\n",
       "    </tr>\n",
       "  </thead>\n",
       "  <tbody>\n",
       "    <tr>\n",
       "      <th>0</th>\n",
       "      <td>4</td>\n",
       "      <td>0</td>\n",
       "    </tr>\n",
       "    <tr>\n",
       "      <th>1</th>\n",
       "      <td>4</td>\n",
       "      <td>1</td>\n",
       "    </tr>\n",
       "    <tr>\n",
       "      <th>2</th>\n",
       "      <td>1</td>\n",
       "      <td>4</td>\n",
       "    </tr>\n",
       "    <tr>\n",
       "      <th>3</th>\n",
       "      <td>4</td>\n",
       "      <td>9</td>\n",
       "    </tr>\n",
       "    <tr>\n",
       "      <th>4</th>\n",
       "      <td>1</td>\n",
       "      <td>16</td>\n",
       "    </tr>\n",
       "  </tbody>\n",
       "</table>\n",
       "</div>"
      ],
      "text/plain": [
       "   column1  column2\n",
       "0        4        0\n",
       "1        4        1\n",
       "2        1        4\n",
       "3        4        9\n",
       "4        1       16"
      ]
     },
     "execution_count": 14,
     "metadata": {},
     "output_type": "execute_result"
    }
   ],
   "source": [
    "data_frame = pd.DataFrame(dict)\n",
    "data_frame"
   ]
  },
  {
   "cell_type": "code",
   "execution_count": 15,
   "id": "db0b5b58",
   "metadata": {},
   "outputs": [],
   "source": [
    "#Create an index that will be used along with each series\n",
    "list_of_indices = [\"index1\", \"index2\", \"index3\", \"index4\", \"index5\"]"
   ]
  },
  {
   "cell_type": "code",
   "execution_count": 16,
   "id": "6c079ab4",
   "metadata": {},
   "outputs": [],
   "source": [
    "#Create a serieses using the data values for a column with index specified\n",
    "series1 = pd.Series([1, 2, 3, 4, 5], index = list_of_indices)\n",
    "series2 = pd.Series([11, 22, 33, 44, 55], index = list_of_indices)\n",
    "series3 = pd.Series([\"A\", \"B\", \"C\", \"D\", \"E\"], index = list_of_indices)"
   ]
  },
  {
   "cell_type": "code",
   "execution_count": 17,
   "id": "d538ab52",
   "metadata": {},
   "outputs": [],
   "source": [
    "#Create a list of serieses\n",
    "list_of_series = [ series1, series2, series3]"
   ]
  },
  {
   "cell_type": "code",
   "execution_count": 18,
   "id": "3c602ed6",
   "metadata": {},
   "outputs": [
    {
     "data": {
      "text/html": [
       "<div>\n",
       "<style scoped>\n",
       "    .dataframe tbody tr th:only-of-type {\n",
       "        vertical-align: middle;\n",
       "    }\n",
       "\n",
       "    .dataframe tbody tr th {\n",
       "        vertical-align: top;\n",
       "    }\n",
       "\n",
       "    .dataframe thead th {\n",
       "        text-align: right;\n",
       "    }\n",
       "</style>\n",
       "<table border=\"1\" class=\"dataframe\">\n",
       "  <thead>\n",
       "    <tr style=\"text-align: right;\">\n",
       "      <th></th>\n",
       "      <th>0</th>\n",
       "      <th>1</th>\n",
       "      <th>2</th>\n",
       "    </tr>\n",
       "  </thead>\n",
       "  <tbody>\n",
       "    <tr>\n",
       "      <th>index1</th>\n",
       "      <td>1</td>\n",
       "      <td>11</td>\n",
       "      <td>A</td>\n",
       "    </tr>\n",
       "    <tr>\n",
       "      <th>index2</th>\n",
       "      <td>2</td>\n",
       "      <td>22</td>\n",
       "      <td>B</td>\n",
       "    </tr>\n",
       "    <tr>\n",
       "      <th>index3</th>\n",
       "      <td>3</td>\n",
       "      <td>33</td>\n",
       "      <td>C</td>\n",
       "    </tr>\n",
       "    <tr>\n",
       "      <th>index4</th>\n",
       "      <td>4</td>\n",
       "      <td>44</td>\n",
       "      <td>D</td>\n",
       "    </tr>\n",
       "    <tr>\n",
       "      <th>index5</th>\n",
       "      <td>5</td>\n",
       "      <td>55</td>\n",
       "      <td>E</td>\n",
       "    </tr>\n",
       "  </tbody>\n",
       "</table>\n",
       "</div>"
      ],
      "text/plain": [
       "        0   1  2\n",
       "index1  1  11  A\n",
       "index2  2  22  B\n",
       "index3  3  33  C\n",
       "index4  4  44  D\n",
       "index5  5  55  E"
      ]
     },
     "execution_count": 18,
     "metadata": {},
     "output_type": "execute_result"
    }
   ],
   "source": [
    "#Use pd.concat along horizontal axis to add the series to the data frames\n",
    "data_frame = pd.concat(list_of_series, axis=1)\n",
    "data_frame"
   ]
  },
  {
   "cell_type": "code",
   "execution_count": 19,
   "id": "534443aa",
   "metadata": {},
   "outputs": [
    {
     "data": {
      "text/html": [
       "<div>\n",
       "<style scoped>\n",
       "    .dataframe tbody tr th:only-of-type {\n",
       "        vertical-align: middle;\n",
       "    }\n",
       "\n",
       "    .dataframe tbody tr th {\n",
       "        vertical-align: top;\n",
       "    }\n",
       "\n",
       "    .dataframe thead th {\n",
       "        text-align: right;\n",
       "    }\n",
       "</style>\n",
       "<table border=\"1\" class=\"dataframe\">\n",
       "  <thead>\n",
       "    <tr style=\"text-align: right;\">\n",
       "      <th></th>\n",
       "      <th>column1</th>\n",
       "      <th>column2</th>\n",
       "      <th>column3</th>\n",
       "    </tr>\n",
       "  </thead>\n",
       "  <tbody>\n",
       "    <tr>\n",
       "      <th>index1</th>\n",
       "      <td>1</td>\n",
       "      <td>11</td>\n",
       "      <td>A</td>\n",
       "    </tr>\n",
       "    <tr>\n",
       "      <th>index2</th>\n",
       "      <td>2</td>\n",
       "      <td>22</td>\n",
       "      <td>B</td>\n",
       "    </tr>\n",
       "    <tr>\n",
       "      <th>index3</th>\n",
       "      <td>3</td>\n",
       "      <td>33</td>\n",
       "      <td>C</td>\n",
       "    </tr>\n",
       "    <tr>\n",
       "      <th>index4</th>\n",
       "      <td>4</td>\n",
       "      <td>44</td>\n",
       "      <td>D</td>\n",
       "    </tr>\n",
       "    <tr>\n",
       "      <th>index5</th>\n",
       "      <td>5</td>\n",
       "      <td>55</td>\n",
       "      <td>E</td>\n",
       "    </tr>\n",
       "  </tbody>\n",
       "</table>\n",
       "</div>"
      ],
      "text/plain": [
       "        column1  column2 column3\n",
       "index1        1       11       A\n",
       "index2        2       22       B\n",
       "index3        3       33       C\n",
       "index4        4       44       D\n",
       "index5        5       55       E"
      ]
     },
     "execution_count": 19,
     "metadata": {},
     "output_type": "execute_result"
    }
   ],
   "source": [
    "#Rename the data frames columns\n",
    "list_of_columns = [\"column1\", \"column2\", \"column3\"]\n",
    "data_frame.columns = list_of_columns\n",
    "data_frame"
   ]
  },
  {
   "cell_type": "code",
   "execution_count": 20,
   "id": "e8e9d3a2",
   "metadata": {},
   "outputs": [],
   "source": [
    "#Create an index that will be used along with each series\n",
    "list_of_indices = [\"column1\", \"column2\", \"column3\", \"column4\", \"column5\"]"
   ]
  },
  {
   "cell_type": "code",
   "execution_count": 21,
   "id": "7d35e8dc",
   "metadata": {},
   "outputs": [],
   "source": [
    "#Create a serieses using the data values for a column with index specified\n",
    "series1 = pd.Series([1, 2, \"A\", True, 5.0], index = list_of_indices)\n",
    "series2 = pd.Series([11, 22, \"B\", False, 55.0], index = list_of_indices)\n",
    "series3 = pd.Series([21, 34, \"C\", True, 12], index = list_of_indices)"
   ]
  },
  {
   "cell_type": "code",
   "execution_count": 22,
   "id": "a8ad3855",
   "metadata": {},
   "outputs": [],
   "source": [
    "#Create a list of serieses\n",
    "list_of_series = [ series1, series2, series3]"
   ]
  },
  {
   "cell_type": "code",
   "execution_count": 23,
   "id": "5c3f89ca",
   "metadata": {},
   "outputs": [
    {
     "data": {
      "text/html": [
       "<div>\n",
       "<style scoped>\n",
       "    .dataframe tbody tr th:only-of-type {\n",
       "        vertical-align: middle;\n",
       "    }\n",
       "\n",
       "    .dataframe tbody tr th {\n",
       "        vertical-align: top;\n",
       "    }\n",
       "\n",
       "    .dataframe thead th {\n",
       "        text-align: right;\n",
       "    }\n",
       "</style>\n",
       "<table border=\"1\" class=\"dataframe\">\n",
       "  <thead>\n",
       "    <tr style=\"text-align: right;\">\n",
       "      <th></th>\n",
       "      <th>column1</th>\n",
       "      <th>column2</th>\n",
       "      <th>column3</th>\n",
       "      <th>column4</th>\n",
       "      <th>column5</th>\n",
       "    </tr>\n",
       "  </thead>\n",
       "  <tbody>\n",
       "    <tr>\n",
       "      <th>0</th>\n",
       "      <td>1</td>\n",
       "      <td>2</td>\n",
       "      <td>A</td>\n",
       "      <td>True</td>\n",
       "      <td>5.0</td>\n",
       "    </tr>\n",
       "    <tr>\n",
       "      <th>1</th>\n",
       "      <td>11</td>\n",
       "      <td>22</td>\n",
       "      <td>B</td>\n",
       "      <td>False</td>\n",
       "      <td>55.0</td>\n",
       "    </tr>\n",
       "    <tr>\n",
       "      <th>2</th>\n",
       "      <td>21</td>\n",
       "      <td>34</td>\n",
       "      <td>C</td>\n",
       "      <td>True</td>\n",
       "      <td>12.0</td>\n",
       "    </tr>\n",
       "  </tbody>\n",
       "</table>\n",
       "</div>"
      ],
      "text/plain": [
       "   column1  column2 column3  column4  column5\n",
       "0        1        2       A     True      5.0\n",
       "1       11       22       B    False     55.0\n",
       "2       21       34       C     True     12.0"
      ]
     },
     "execution_count": 23,
     "metadata": {},
     "output_type": "execute_result"
    }
   ],
   "source": [
    "#Use pd.DataFrame along horizontal axis to add the series to the data frames\n",
    "data_frame = pd.DataFrame(list_of_series)\n",
    "data_frame"
   ]
  },
  {
   "cell_type": "markdown",
   "id": "05375805",
   "metadata": {},
   "source": [
    "Q1. Create a DataFrame by passing a NumPy array, with a datetime index and labeled columns."
   ]
  },
  {
   "cell_type": "code",
   "execution_count": 25,
   "id": "cc45462b",
   "metadata": {},
   "outputs": [
    {
     "data": {
      "text/plain": [
       "DatetimeIndex(['2019-07-01', '2019-07-02', '2019-07-03', '2019-07-04',\n",
       "               '2019-07-05'],\n",
       "              dtype='datetime64[ns]', freq='D')"
      ]
     },
     "execution_count": 25,
     "metadata": {},
     "output_type": "execute_result"
    }
   ],
   "source": [
    "dt_index = pd.date_range(\"20190701\",periods=5)\n",
    "dt_index"
   ]
  },
  {
   "cell_type": "code",
   "execution_count": 27,
   "id": "c74531c5",
   "metadata": {},
   "outputs": [
    {
     "name": "stdout",
     "output_type": "stream",
     "text": [
      "Date index : \n",
      " DatetimeIndex(['2019-07-01', '2019-07-02', '2019-07-03', '2019-07-04',\n",
      "               '2019-07-05'],\n",
      "              dtype='datetime64[ns]', freq='D')\n"
     ]
    }
   ],
   "source": [
    "print(\"Date index : \\n\", dt_index)"
   ]
  },
  {
   "cell_type": "code",
   "execution_count": 30,
   "id": "9b9df978",
   "metadata": {},
   "outputs": [],
   "source": [
    "array = np.random.random((5,4))"
   ]
  },
  {
   "cell_type": "code",
   "execution_count": 31,
   "id": "212ea8bf",
   "metadata": {},
   "outputs": [
    {
     "name": "stdout",
     "output_type": "stream",
     "text": [
      "Array : \n",
      " [[0.29574296 0.94940303 0.69225986 0.20420189]\n",
      " [0.78865786 0.03032002 0.91207884 0.52981064]\n",
      " [0.12866562 0.20281234 0.6221217  0.50879077]\n",
      " [0.72926456 0.7319549  0.41730333 0.04573199]\n",
      " [0.20915324 0.15925809 0.77427091 0.77306547]]\n"
     ]
    }
   ],
   "source": [
    "print(\"Array : \\n\",array)"
   ]
  },
  {
   "cell_type": "code",
   "execution_count": 32,
   "id": "e2618bb7",
   "metadata": {},
   "outputs": [],
   "source": [
    "list_of_columns = [\"column1\",\"Column2\",\"column3\",\"column4\"]"
   ]
  },
  {
   "cell_type": "code",
   "execution_count": 36,
   "id": "bf382c93",
   "metadata": {},
   "outputs": [
    {
     "data": {
      "text/html": [
       "<div>\n",
       "<style scoped>\n",
       "    .dataframe tbody tr th:only-of-type {\n",
       "        vertical-align: middle;\n",
       "    }\n",
       "\n",
       "    .dataframe tbody tr th {\n",
       "        vertical-align: top;\n",
       "    }\n",
       "\n",
       "    .dataframe thead th {\n",
       "        text-align: right;\n",
       "    }\n",
       "</style>\n",
       "<table border=\"1\" class=\"dataframe\">\n",
       "  <thead>\n",
       "    <tr style=\"text-align: right;\">\n",
       "      <th></th>\n",
       "      <th>column1</th>\n",
       "      <th>Column2</th>\n",
       "      <th>column3</th>\n",
       "      <th>column4</th>\n",
       "    </tr>\n",
       "  </thead>\n",
       "  <tbody>\n",
       "    <tr>\n",
       "      <th>2019-07-01</th>\n",
       "      <td>0.295743</td>\n",
       "      <td>0.949403</td>\n",
       "      <td>0.692260</td>\n",
       "      <td>0.204202</td>\n",
       "    </tr>\n",
       "    <tr>\n",
       "      <th>2019-07-02</th>\n",
       "      <td>0.788658</td>\n",
       "      <td>0.030320</td>\n",
       "      <td>0.912079</td>\n",
       "      <td>0.529811</td>\n",
       "    </tr>\n",
       "    <tr>\n",
       "      <th>2019-07-03</th>\n",
       "      <td>0.128666</td>\n",
       "      <td>0.202812</td>\n",
       "      <td>0.622122</td>\n",
       "      <td>0.508791</td>\n",
       "    </tr>\n",
       "    <tr>\n",
       "      <th>2019-07-04</th>\n",
       "      <td>0.729265</td>\n",
       "      <td>0.731955</td>\n",
       "      <td>0.417303</td>\n",
       "      <td>0.045732</td>\n",
       "    </tr>\n",
       "    <tr>\n",
       "      <th>2019-07-05</th>\n",
       "      <td>0.209153</td>\n",
       "      <td>0.159258</td>\n",
       "      <td>0.774271</td>\n",
       "      <td>0.773065</td>\n",
       "    </tr>\n",
       "  </tbody>\n",
       "</table>\n",
       "</div>"
      ],
      "text/plain": [
       "             column1   Column2   column3   column4\n",
       "2019-07-01  0.295743  0.949403  0.692260  0.204202\n",
       "2019-07-02  0.788658  0.030320  0.912079  0.529811\n",
       "2019-07-03  0.128666  0.202812  0.622122  0.508791\n",
       "2019-07-04  0.729265  0.731955  0.417303  0.045732\n",
       "2019-07-05  0.209153  0.159258  0.774271  0.773065"
      ]
     },
     "execution_count": 36,
     "metadata": {},
     "output_type": "execute_result"
    }
   ],
   "source": [
    "data_frame = pd.DataFrame(array,index=dt_index,columns=list_of_columns)\n",
    "data_frame"
   ]
  },
  {
   "cell_type": "code",
   "execution_count": null,
   "id": "6b8b0c9f",
   "metadata": {},
   "outputs": [],
   "source": []
  }
 ],
 "metadata": {
  "kernelspec": {
   "display_name": "Python 3 (ipykernel)",
   "language": "python",
   "name": "python3"
  },
  "language_info": {
   "codemirror_mode": {
    "name": "ipython",
    "version": 3
   },
   "file_extension": ".py",
   "mimetype": "text/x-python",
   "name": "python",
   "nbconvert_exporter": "python",
   "pygments_lexer": "ipython3",
   "version": "3.9.12"
  }
 },
 "nbformat": 4,
 "nbformat_minor": 5
}
